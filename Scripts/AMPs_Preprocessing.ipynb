{
  "nbformat": 4,
  "nbformat_minor": 0,
  "metadata": {
    "colab": {
      "provenance": [],
      "toc_visible": true
    },
    "kernelspec": {
      "name": "python3",
      "display_name": "Python 3"
    },
    "language_info": {
      "name": "python"
    }
  },
  "cells": [
    {
      "cell_type": "markdown",
      "metadata": {
        "id": "l8qTKIHs83Q1"
      },
      "source": [
        "# Importing Pacages"
      ]
    },
    {
      "cell_type": "code",
      "execution_count": null,
      "metadata": {
        "colab": {
          "background_save": true
        },
        "id": "3zE37q_u8xvm",
        "outputId": "6af513a2-259a-4674-9bba-d4bbc6acef5e"
      },
      "outputs": [
        {
          "name": "stdout",
          "output_type": "stream",
          "text": [
            "Mounted at /content/drive\n"
          ]
        }
      ],
      "source": [
        "from google.colab import drive\n",
        "drive.mount('/content/drive')"
      ]
    },
    {
      "cell_type": "code",
      "execution_count": null,
      "metadata": {
        "colab": {
          "background_save": true
        },
        "id": "IhskyTef9x3f"
      },
      "outputs": [],
      "source": [
        "import pandas as pd\n",
        "import numpy as np\n",
        "import matplotlib.pyplot as plt\n",
        "import os\n",
        "from sklearn.tree import DecisionTreeClassifier\n",
        "from sklearn.ensemble import RandomForestClassifier\n",
        "from sklearn.model_selection import train_test_split\n",
        "from sklearn.metrics import accuracy_score\n",
        "from sklearn.preprocessing import LabelEncoder\n",
        "from itertools import combinations\n",
        "from propy import PyPro\n",
        "import propy\n",
        "import cs"
      ]
    },
    {
      "cell_type": "markdown",
      "source": [
        "# Helper functions"
      ],
      "metadata": {
        "id": "G6nkSjRC7BDW"
      }
    },
    {
      "cell_type": "code",
      "execution_count": null,
      "metadata": {
        "id": "T_6tGSIj-pxN"
      },
      "outputs": [],
      "source": [
        "def csv_to_fasta(csv_file, fasta_file):\n",
        "  data = pd.read_csv(csv_file)\n",
        "  data.drop(\"Unnamed: 0\", axis=1, inplace=True)\n",
        "  for i in range(data.shape[0]):\n",
        "    identifier = data[\"Peptide_ID\"][i]\n",
        "    sequence = data[\"Sequence\"][i]\n",
        "    with open(fasta_file, \"a\") as f:\n",
        "      f.write(f\">{identifier}\\n{sequence}\\n\")\n",
        "\n",
        "def fasta_to_csv(fasta_file, csv_file):\n",
        "    with open(fasta_file, \"r\") as infile, open(csv_file, \"w\", newline=\"\") as outfile:\n",
        "        outfile.write(\"Peptide_ID,Sequence\\n\")\n",
        "        Id = None\n",
        "        seq = []\n",
        "        for line in infile:\n",
        "            line = line.strip()\n",
        "            if line.startswith(\">\"):\n",
        "                if Id:\n",
        "                    outfile.write(f\"{Id},{''.join(seq)}\\n\")\n",
        "                Id = line[1:]\n",
        "                seq = []\n",
        "            else:\n",
        "                seq.append(line)\n",
        "        if Id:\n",
        "            outfile.write(f\"{Id},{''.join(seq)}\\n\")\n",
        "\n",
        "def merge_on_common_column(dataframes, merge_column):\n",
        "  merged_df = dataframes[0]\n",
        "  for df in dataframes[1:]:\n",
        "          merged_df = pd.merge(merged_df, df, on=merge_column)\n",
        "  return merged_df\n",
        "\n",
        "def drop_outliers(df, columns):\n",
        "    for col in columns:\n",
        "        if pd.api.types.is_numeric_dtype(df[col]):\n",
        "            Q1 = df[col].quantile(0.25)\n",
        "            Q3 = df[col].quantile(0.75)\n",
        "            IQR = Q3 - Q1\n",
        "            lower_bound = Q1 - 1.5 * IQR\n",
        "            upper_bound = Q3 + 1.5 * IQR\n",
        "\n",
        "            df = df[(df[col] >= lower_bound) & (df[col] <= upper_bound)]\n",
        "    return df\n",
        "\n",
        "def plot_distributions(df, file_name):\n",
        "    numeric_columns = df.select_dtypes(include='number').columns\n",
        "\n",
        "    for col in numeric_columns:\n",
        "        plt.figure(figsize=(8, 4))\n",
        "        df[col].plot(kind='hist', bins=30, alpha=0.5, label='Histogram', color='blue', density=True)\n",
        "        df[col].plot(kind='kde', label='Density', color='red')\n",
        "        plt.title(f\"Distribution of {col} - {file_name}\")\n",
        "        plt.xlabel(col)\n",
        "        plt.ylabel(\"Density\")\n",
        "        plt.legend()\n",
        "        plt.show()\n",
        "\n",
        "def minmax_normalize(df):\n",
        "    numeric_columns = df.select_dtypes(include='number').columns\n",
        "    scaler = MinMaxScaler()\n",
        "    df[numeric_columns] = scaler.fit_transform(df[numeric_columns])\n",
        "    return df"
      ]
    },
    {
      "cell_type": "markdown",
      "source": [
        "# Load AMP & non-AMP Datasets"
      ],
      "metadata": {
        "id": "Z0LB2AM091lV"
      }
    },
    {
      "cell_type": "markdown",
      "source": [
        "## Load AMPs"
      ],
      "metadata": {
        "id": "acEq4kxlAAJP"
      }
    },
    {
      "cell_type": "code",
      "source": [
        "APD3 = pd.read_csv(\"/content/drive/MyDrive/AMPs/Project Data/APD3/APD3_Sequence_Data.csv\")\n",
        "APD3[\"Activity\"] = \"AMP\"\n",
        "APD3 = APD3.set_axis(['Peptide_ID', 'Sequence', \"Activity\"], axis=1)\n",
        "APD3.to_csv(\"/content/drive/MyDrive/AMPs/Project Data/Updated_AFTER_HANDELING/APD3.csv\")"
      ],
      "metadata": {
        "id": "zyAx51kM_Txs"
      },
      "execution_count": null,
      "outputs": []
    },
    {
      "cell_type": "code",
      "source": [
        "DRAMP = pd.read_excel(\"/content/drive/MyDrive/AMPs/Project Data/DRAMP/general_amps.xlsx\")\n",
        "DRAMP[\"Activity\"] = \"AMP\"\n",
        "for i in DRAMP.columns:\n",
        "    if i not in [\"DRAMP_ID\", \"Sequence\", \"Activity\"]:\n",
        "        DRAMP.drop(i, axis=1, inplace=True)\n",
        "DRAMP = DRAMP.set_axis(['Peptide_ID', 'Sequence', \"Activity\"], axis=1)\n",
        "DRAMP.to_csv(\"/content/drive/MyDrive/AMPs/Project Data/Updated_AFTER_HANDELING/DRAMP.csv\")"
      ],
      "metadata": {
        "id": "J4FIV-h9_U0e"
      },
      "execution_count": null,
      "outputs": []
    },
    {
      "cell_type": "code",
      "source": [
        "ADAM = pd.read_csv(\"/content/drive/MyDrive/AMPs/Project Data/ADAM/ADAM_Sequence_Data.csv\")\n",
        "ADAM[\"Activity\"] = \"AMP\"\n",
        "ADAM = ADAM.set_axis(['Peptide_ID', 'Sequence', \"Activity\"], axis=1)\n",
        "ADAM.to_csv(\"/content/drive/MyDrive/AMPs/Project Data/Updated_AFTER_HANDELING/ADAM.csv\")"
      ],
      "metadata": {
        "id": "TXNvGeK-_aHb"
      },
      "execution_count": null,
      "outputs": []
    },
    {
      "cell_type": "code",
      "source": [
        "CAMP = pd.read_csv(\"/content/drive/MyDrive/AMPs/Project Data/CAMP/CAMP_Sequence_Data.csv\")\n",
        "CAMP[\"Activity\"] = \"AMP\"\n",
        "CAMP = CAMP.set_axis(['Peptide_ID', 'Sequence', \"Activity\"], axis=1)\n",
        "CAMP.to_csv(\"/content/drive/MyDrive/AMPs/Project Data/Updated_AFTER_HANDELING/CAMP.csv\")"
      ],
      "metadata": {
        "id": "t4815kEN_aeK"
      },
      "execution_count": null,
      "outputs": []
    },
    {
      "cell_type": "code",
      "source": [
        "dbAMP = pd.read_csv(\"/content/drive/MyDrive/AMPs/Project Data/dbAMP/dbAMP_Sequence_Data.csv\")\n",
        "dbAMP[\"Activity\"] = \"AMP\"\n",
        "dbAMP = dbAMP.set_axis(['Peptide_ID', 'Sequence', \"Activity\"], axis=1)\n",
        "dbAMP.to_csv(\"/content/drive/MyDrive/AMPs/Project Data/Updated_AFTER_HANDELING/dbAMP.csv\")"
      ],
      "metadata": {
        "id": "5yzCU5Qj_dWo"
      },
      "execution_count": null,
      "outputs": []
    },
    {
      "cell_type": "markdown",
      "source": [
        "## Load non-AMPs"
      ],
      "metadata": {
        "id": "Wa_hqds8AGgw"
      }
    },
    {
      "cell_type": "code",
      "source": [
        "fasta_to_csv(\"/content/drive/MyDrive/AMPs/Project Data/Non-AMPs/train_nonAMP_9777.fasta\",\n",
        "             \"/content/drive/MyDrive/AMPs/Project Data/Non-AMPs/nonAMPs.csv\")\n",
        "\n",
        "nonAMP = pd.read_csv(\"/content/drive/MyDrive/AMPs/Project Data/Non-AMPs/nonAMPs.csv\")\n",
        "nonAMP[\"Activity\"] = \"nonAMP\"\n",
        "nonAMP = nonAMP.set_axis(['Peptide_ID', 'Sequence', \"Activity\"], axis=1)\n",
        "nonAMP.to_csv(\"/content/drive/MyDrive/AMPs/Project Data/Updated_AFTER_HANDELING/nonAMPs.csv\")"
      ],
      "metadata": {
        "id": "qWQIGuS7_98t"
      },
      "execution_count": null,
      "outputs": []
    },
    {
      "cell_type": "markdown",
      "source": [
        "## Merging AMP datasets"
      ],
      "metadata": {
        "id": "5sxfQRvSASRJ"
      }
    },
    {
      "cell_type": "code",
      "source": [
        "Data_Dir = \"/content/drive/MyDrive/AMPs/Project Data/Updated_AFTER_HANDELING\"\n",
        "\n",
        "csv_files = [file for file in os.listdir(Data_Dir) if file.endswith('.csv')]\n",
        "dataframes = []\n",
        "\n",
        "for file in csv_files:\n",
        "    file_path = os.path.join(Data_Dir, file)\n",
        "    df = pd.read_csv(file_path)\n",
        "    dataframes.append(df)\n",
        "\n",
        "AMPs = pd.concat(dataframes, axis=0, ignore_index=True)\n",
        "AMPs.drop(\"Unnamed: 0\", axis=1, inplace=True)\n",
        "AMPs.to_csv(\"/content/drive/MyDrive/AMPs/Project Data/Merged_data/AMPs.csv\", index=False)"
      ],
      "metadata": {
        "id": "Ulq5upM4AnSy"
      },
      "execution_count": null,
      "outputs": []
    },
    {
      "cell_type": "markdown",
      "source": [
        "# Data cleaning"
      ],
      "metadata": {
        "id": "huyrMM0LAoJ0"
      }
    },
    {
      "cell_type": "markdown",
      "source": [
        "## Cleaning AMPs dataframe"
      ],
      "metadata": {
        "id": "D2-DzJcSA4jW"
      }
    },
    {
      "cell_type": "code",
      "source": [
        "data_for_length = pd.read_csv(\"/content/drive/MyDrive/AMPs/Project Data/Merged_data/AMPs.csv\")\n",
        "data_for_length = pd.DataFrame(data_for_length)\n",
        "data = data_for_length.Sequence.str.upper()\n",
        "invalid_conditions = (data.str.len() < 10) | (data.str.len() > 100) | (data.str.contains(\"[UOBZJX ]\"))\n",
        "data_for_length = data_for_length[~invalid_conditions]\n",
        "\n",
        "data_for_length.to_csv(\"/content/drive/MyDrive/AMPs/Project Data/Preprocessed_data/Length&UnknownAA-Filtered_AMPs.csv\")"
      ],
      "metadata": {
        "id": "dOB9DA6aA2IT"
      },
      "execution_count": null,
      "outputs": []
    },
    {
      "cell_type": "markdown",
      "source": [
        "## Cleaning non-AMPs dataframe"
      ],
      "metadata": {
        "id": "rxubYyhnA-9g"
      }
    },
    {
      "cell_type": "code",
      "source": [
        "dataa_for_length = pd.read_csv(\"/content/drive/MyDrive/AMPs/Project Data/Updated_AFTER_HANDELING/nonAMPs.csv\")\n",
        "dataa_for_length = pd.DataFrame(dataa_for_length)\n",
        "dataa = dataa_for_length.Sequence.str.upper()\n",
        "invalidd_conditions = (dataa.str.len() < 10) | (dataa.str.len() > 100) | (dataa.str.contains(\"[UOBZJX ]\"))\n",
        "dataa_for_length = dataa_for_length[~invalidd_conditions]\n",
        "\n",
        "dataa_for_length.to_csv(\"/content/drive/MyDrive/AMPs/Project Data/Preprocessed_data/Length&UnknownAA-Filtered_NON-AMPs.csv\")"
      ],
      "metadata": {
        "id": "mlD6BG4qBEMh"
      },
      "execution_count": null,
      "outputs": []
    },
    {
      "cell_type": "markdown",
      "source": [
        "## Identity Filtering Using CD-HIT\n"
      ],
      "metadata": {
        "id": "dnhF6LZPGr8n"
      }
    },
    {
      "cell_type": "markdown",
      "source": [
        "###Converting csv to fasta"
      ],
      "metadata": {
        "id": "bDmB-FEBGKu8"
      }
    },
    {
      "cell_type": "code",
      "source": [
        "csv_to_fasta(\"/content/drive/MyDrive/AMPs/Project Data/Preprocessed_data/Length&UnknownAA-Filtered_AMPs.csv\",\n",
        "             \"/content/drive/MyDrive/AMPs/Project Data/Preprocessed_data/Length&UnknownAA-Filtered_AMPs.fasta\")"
      ],
      "metadata": {
        "id": "dHGyWY8vGJqs"
      },
      "execution_count": null,
      "outputs": []
    },
    {
      "cell_type": "code",
      "source": [
        "csv_to_fasta(\"/content/drive/MyDrive/AMPs/Project Data/Preprocessed_data/Length&UnknownAA-Filtered_NON-AMPs.csv\",\n",
        "             \"/content/drive/MyDrive/AMPs/Project Data/Preprocessed_data/Length&UnknownAA-Filtered_NON-AMPs.fasta\")"
      ],
      "metadata": {
        "id": "Us3z5WoZHE75"
      },
      "execution_count": null,
      "outputs": []
    },
    {
      "cell_type": "markdown",
      "source": [
        "\n",
        "\n",
        "---\n",
        "\n",
        "\n",
        "**To filter sequences with higher than 90% identity, use the CD-HIT tool (v4.6.6) on the generated FASTA files. Run the following command in the terminal:**\n",
        "\n",
        "cd-hit -i my_sequences.fasta -o clustered_sequences.fasta -c 0.9\n",
        "\n",
        "\n",
        "---\n",
        "\n",
        "\n"
      ],
      "metadata": {
        "id": "fitn1OJAEbNT"
      }
    },
    {
      "cell_type": "markdown",
      "source": [
        "### Converting fasta to csv"
      ],
      "metadata": {
        "id": "lMOpcQ0UHRMc"
      }
    },
    {
      "cell_type": "code",
      "source": [
        "fasta_to_csv(\"/content/drive/MyDrive/AMPs/Project Data/Preprocessed_data/cd_hit_final_filtered_AMPs.fasta\",\n",
        "             \"/content/drive/MyDrive/AMPs/Project Data/Preprocessed_data/Length&UnknownAA&SIMILARITY-Filtered_AMPs.csv\")"
      ],
      "metadata": {
        "id": "2ZacbhF9HYMs"
      },
      "execution_count": null,
      "outputs": []
    },
    {
      "cell_type": "markdown",
      "source": [
        "# Load filtered datasets"
      ],
      "metadata": {
        "id": "qkulVJkPHlVX"
      }
    },
    {
      "cell_type": "code",
      "source": [
        "final_data_AMPs = pd.read_csv(\"/content/drive/MyDrive/AMPs/Project Data/Preprocessed_data/Length&UnknownAA&SIMILARITY-Filtered_AMPs.csv\", on_bad_lines=\"skip\")\n",
        "final_data_AMPs = pd.DataFrame(final_data_AMPs)\n",
        "final_data_AMPs[\"Activity\"] = \"AMP\""
      ],
      "metadata": {
        "id": "YsxLC3VZHxBx"
      },
      "execution_count": null,
      "outputs": []
    },
    {
      "cell_type": "code",
      "source": [
        "final_data_NonAMPs = pd.read_csv(\"/content/drive/MyDrive/AMPs/Project Data/Preprocessed_data/Length&UnknownAA&SIMILARITY-Filtered_NON-AMPs.csv\", on_bad_lines=\"skip\")\n",
        "final_data_NonAMPs = pd.DataFrame(final_data_NonAMPs)\n",
        "final_data_NonAMPs[\"Activity\"] = \"nonAMP\""
      ],
      "metadata": {
        "id": "-KkhzDdnIAXy"
      },
      "execution_count": null,
      "outputs": []
    },
    {
      "cell_type": "markdown",
      "source": [
        "# Merging both classes"
      ],
      "metadata": {
        "id": "ZpwzQqOaEEVR"
      }
    },
    {
      "cell_type": "code",
      "source": [
        "data_frames = []\n",
        "data_frames.append(final_data_AMPs)\n",
        "data_frames.append(final_data_NonAMPs)\n",
        "\n",
        "Final_data = pd.concat(data_frames, axis=0, ignore_index=True)\n",
        "print(Final_data.shape)\n",
        "\n",
        "Final_data.to_csv(\"/content/drive/MyDrive/AMPs/Project Data/Final_data/Final_data.csv\")"
      ],
      "metadata": {
        "id": "iixXZ2R_ENIa"
      },
      "execution_count": null,
      "outputs": []
    },
    {
      "cell_type": "markdown",
      "metadata": {
        "id": "2YmFriyQ-xZx"
      },
      "source": [
        "# Feature Extraction"
      ]
    },
    {
      "cell_type": "markdown",
      "metadata": {
        "id": "TE1KX5DjOWtQ"
      },
      "source": [
        "Please note the dataframe has all data (AMPs and Non-AMPs) merged (not ranomized) and please if u will read the file path drop the column (\"unnamed: 0\")"
      ]
    },
    {
      "cell_type": "code",
      "execution_count": null,
      "metadata": {
        "id": "B9Bs-C9aO3jq"
      },
      "outputs": [],
      "source": [
        "Final_data = pd.read_csv(\"/content/drive/MyDrive/AMPs/Project Data/Final_data/Final_data.csv\")"
      ]
    },
    {
      "cell_type": "code",
      "execution_count": null,
      "metadata": {
        "colab": {
          "base_uri": "https://localhost:8080/",
          "height": 178
        },
        "id": "fwhM46m90v62",
        "outputId": "2919359f-dc1b-4269-c9f0-63bd9187d6de"
      },
      "outputs": [
        {
          "data": {
            "text/html": [
              "<div>\n",
              "<style scoped>\n",
              "    .dataframe tbody tr th:only-of-type {\n",
              "        vertical-align: middle;\n",
              "    }\n",
              "\n",
              "    .dataframe tbody tr th {\n",
              "        vertical-align: top;\n",
              "    }\n",
              "\n",
              "    .dataframe thead th {\n",
              "        text-align: right;\n",
              "    }\n",
              "</style>\n",
              "<table border=\"1\" class=\"dataframe\">\n",
              "  <thead>\n",
              "    <tr style=\"text-align: right;\">\n",
              "      <th></th>\n",
              "      <th>0</th>\n",
              "    </tr>\n",
              "  </thead>\n",
              "  <tbody>\n",
              "    <tr>\n",
              "      <th>Peptide_ID</th>\n",
              "      <td>0</td>\n",
              "    </tr>\n",
              "    <tr>\n",
              "      <th>Sequence</th>\n",
              "      <td>0</td>\n",
              "    </tr>\n",
              "    <tr>\n",
              "      <th>Activity</th>\n",
              "      <td>0</td>\n",
              "    </tr>\n",
              "  </tbody>\n",
              "</table>\n",
              "</div><br><label><b>dtype:</b> int64</label>"
            ],
            "text/plain": [
              "Peptide_ID    0\n",
              "Sequence      0\n",
              "Activity      0\n",
              "dtype: int64"
            ]
          },
          "execution_count": 23,
          "metadata": {},
          "output_type": "execute_result"
        }
      ],
      "source": [
        "Final_data.isna().sum()"
      ]
    },
    {
      "cell_type": "markdown",
      "metadata": {
        "id": "UkeItT0ug1v7"
      },
      "source": [
        "## AAC"
      ]
    },
    {
      "cell_type": "code",
      "execution_count": null,
      "metadata": {
        "colab": {
          "base_uri": "https://localhost:8080/",
          "height": 370
        },
        "collapsed": true,
        "id": "IqPQ4mARj1YX",
        "outputId": "cb057600-b681-4695-b070-b5e1d2441451"
      },
      "outputs": [
        {
          "ename": "KeyboardInterrupt",
          "evalue": "",
          "output_type": "error",
          "traceback": [
            "\u001b[0;31m---------------------------------------------------------------------------\u001b[0m",
            "\u001b[0;31mKeyboardInterrupt\u001b[0m                         Traceback (most recent call last)",
            "\u001b[0;32m<ipython-input-152-e6153b8d5d96>\u001b[0m in \u001b[0;36m<cell line: 2>\u001b[0;34m()\u001b[0m\n\u001b[1;32m      1\u001b[0m \u001b[0mdata\u001b[0m \u001b[0;34m=\u001b[0m \u001b[0;34m{\u001b[0m\u001b[0;34m}\u001b[0m\u001b[0;34m\u001b[0m\u001b[0;34m\u001b[0m\u001b[0m\n\u001b[1;32m      2\u001b[0m \u001b[0;32mfor\u001b[0m \u001b[0mseq\u001b[0m\u001b[0;34m,\u001b[0m \u001b[0mlabel\u001b[0m \u001b[0;32min\u001b[0m \u001b[0mzip\u001b[0m\u001b[0;34m(\u001b[0m\u001b[0mFinal_data\u001b[0m\u001b[0;34m[\u001b[0m\u001b[0;34m'Sequence'\u001b[0m\u001b[0;34m]\u001b[0m\u001b[0;34m,\u001b[0m \u001b[0mFinal_data\u001b[0m\u001b[0;34m[\u001b[0m\u001b[0;34m'Activity'\u001b[0m\u001b[0;34m]\u001b[0m\u001b[0;34m)\u001b[0m\u001b[0;34m:\u001b[0m\u001b[0;34m\u001b[0m\u001b[0;34m\u001b[0m\u001b[0m\n\u001b[0;32m----> 3\u001b[0;31m   \u001b[0mdata\u001b[0m\u001b[0;34m[\u001b[0m\u001b[0mseq\u001b[0m\u001b[0;34m]\u001b[0m \u001b[0;34m=\u001b[0m \u001b[0mpropy\u001b[0m\u001b[0;34m.\u001b[0m\u001b[0mAAComposition\u001b[0m\u001b[0;34m.\u001b[0m\u001b[0mCalculateAADipeptideComposition\u001b[0m\u001b[0;34m(\u001b[0m\u001b[0mseq\u001b[0m\u001b[0;34m)\u001b[0m\u001b[0;34m\u001b[0m\u001b[0;34m\u001b[0m\u001b[0m\n\u001b[0m\u001b[1;32m      4\u001b[0m   \u001b[0mdata\u001b[0m\u001b[0;34m[\u001b[0m\u001b[0mseq\u001b[0m\u001b[0;34m]\u001b[0m\u001b[0;34m[\u001b[0m\u001b[0;34m'Activity'\u001b[0m\u001b[0;34m]\u001b[0m \u001b[0;34m=\u001b[0m \u001b[0mlabel\u001b[0m\u001b[0;34m\u001b[0m\u001b[0;34m\u001b[0m\u001b[0m\n\u001b[1;32m      5\u001b[0m \u001b[0mAAC_df\u001b[0m \u001b[0;34m=\u001b[0m \u001b[0mpd\u001b[0m\u001b[0;34m.\u001b[0m\u001b[0mDataFrame\u001b[0m\u001b[0;34m.\u001b[0m\u001b[0mfrom_dict\u001b[0m\u001b[0;34m(\u001b[0m\u001b[0mdata\u001b[0m\u001b[0;34m,\u001b[0m \u001b[0morient\u001b[0m\u001b[0;34m=\u001b[0m\u001b[0;34m'index'\u001b[0m\u001b[0;34m)\u001b[0m\u001b[0;34m.\u001b[0m\u001b[0mreset_index\u001b[0m\u001b[0;34m(\u001b[0m\u001b[0;34m)\u001b[0m\u001b[0;34m\u001b[0m\u001b[0;34m\u001b[0m\u001b[0m\n",
            "\u001b[0;32m/usr/local/lib/python3.10/dist-packages/propy/AAComposition.py\u001b[0m in \u001b[0;36mCalculateAADipeptideComposition\u001b[0;34m(ProteinSequence)\u001b[0m\n\u001b[1;32m    170\u001b[0m     \u001b[0mresult\u001b[0m\u001b[0;34m.\u001b[0m\u001b[0mupdate\u001b[0m\u001b[0;34m(\u001b[0m\u001b[0mCalculateAAComposition\u001b[0m\u001b[0;34m(\u001b[0m\u001b[0mProteinSequence\u001b[0m\u001b[0;34m)\u001b[0m\u001b[0;34m)\u001b[0m\u001b[0;34m\u001b[0m\u001b[0;34m\u001b[0m\u001b[0m\n\u001b[1;32m    171\u001b[0m     \u001b[0mresult\u001b[0m\u001b[0;34m.\u001b[0m\u001b[0mupdate\u001b[0m\u001b[0;34m(\u001b[0m\u001b[0mCalculateDipeptideComposition\u001b[0m\u001b[0;34m(\u001b[0m\u001b[0mProteinSequence\u001b[0m\u001b[0;34m)\u001b[0m\u001b[0;34m)\u001b[0m\u001b[0;34m\u001b[0m\u001b[0;34m\u001b[0m\u001b[0m\n\u001b[0;32m--> 172\u001b[0;31m     \u001b[0mresult\u001b[0m\u001b[0;34m.\u001b[0m\u001b[0mupdate\u001b[0m\u001b[0;34m(\u001b[0m\u001b[0mGetSpectrumDict\u001b[0m\u001b[0;34m(\u001b[0m\u001b[0mProteinSequence\u001b[0m\u001b[0;34m)\u001b[0m\u001b[0;34m)\u001b[0m\u001b[0;34m\u001b[0m\u001b[0;34m\u001b[0m\u001b[0m\n\u001b[0m\u001b[1;32m    173\u001b[0m     \u001b[0;32mreturn\u001b[0m \u001b[0mresult\u001b[0m\u001b[0;34m\u001b[0m\u001b[0;34m\u001b[0m\u001b[0m\n",
            "\u001b[0;32m/usr/local/lib/python3.10/dist-packages/propy/AAComposition.py\u001b[0m in \u001b[0;36mGetSpectrumDict\u001b[0;34m(proteinsequence)\u001b[0m\n\u001b[1;32m    142\u001b[0m     \u001b[0mkmers\u001b[0m \u001b[0;34m=\u001b[0m \u001b[0mGetkmers\u001b[0m\u001b[0;34m(\u001b[0m\u001b[0;34m)\u001b[0m\u001b[0;34m\u001b[0m\u001b[0;34m\u001b[0m\u001b[0m\n\u001b[1;32m    143\u001b[0m     \u001b[0;32mfor\u001b[0m \u001b[0mi\u001b[0m \u001b[0;32min\u001b[0m \u001b[0mkmers\u001b[0m\u001b[0;34m:\u001b[0m\u001b[0;34m\u001b[0m\u001b[0;34m\u001b[0m\u001b[0m\n\u001b[0;32m--> 144\u001b[0;31m         \u001b[0mresult\u001b[0m\u001b[0;34m[\u001b[0m\u001b[0mi\u001b[0m\u001b[0;34m]\u001b[0m \u001b[0;34m=\u001b[0m \u001b[0mlen\u001b[0m\u001b[0;34m(\u001b[0m\u001b[0mre\u001b[0m\u001b[0;34m.\u001b[0m\u001b[0mfindall\u001b[0m\u001b[0;34m(\u001b[0m\u001b[0mi\u001b[0m\u001b[0;34m,\u001b[0m \u001b[0mproteinsequence\u001b[0m\u001b[0;34m)\u001b[0m\u001b[0;34m)\u001b[0m\u001b[0;34m\u001b[0m\u001b[0;34m\u001b[0m\u001b[0m\n\u001b[0m\u001b[1;32m    145\u001b[0m     \u001b[0;32mreturn\u001b[0m \u001b[0mresult\u001b[0m\u001b[0;34m\u001b[0m\u001b[0;34m\u001b[0m\u001b[0m\n\u001b[1;32m    146\u001b[0m \u001b[0;34m\u001b[0m\u001b[0m\n",
            "\u001b[0;32m/usr/lib/python3.10/re.py\u001b[0m in \u001b[0;36mfindall\u001b[0;34m(pattern, string, flags)\u001b[0m\n\u001b[1;32m    238\u001b[0m \u001b[0;34m\u001b[0m\u001b[0m\n\u001b[1;32m    239\u001b[0m     Empty matches are included in the result.\"\"\"\n\u001b[0;32m--> 240\u001b[0;31m     \u001b[0;32mreturn\u001b[0m \u001b[0m_compile\u001b[0m\u001b[0;34m(\u001b[0m\u001b[0mpattern\u001b[0m\u001b[0;34m,\u001b[0m \u001b[0mflags\u001b[0m\u001b[0;34m)\u001b[0m\u001b[0;34m.\u001b[0m\u001b[0mfindall\u001b[0m\u001b[0;34m(\u001b[0m\u001b[0mstring\u001b[0m\u001b[0;34m)\u001b[0m\u001b[0;34m\u001b[0m\u001b[0;34m\u001b[0m\u001b[0m\n\u001b[0m\u001b[1;32m    241\u001b[0m \u001b[0;34m\u001b[0m\u001b[0m\n\u001b[1;32m    242\u001b[0m \u001b[0;32mdef\u001b[0m \u001b[0mfinditer\u001b[0m\u001b[0;34m(\u001b[0m\u001b[0mpattern\u001b[0m\u001b[0;34m,\u001b[0m \u001b[0mstring\u001b[0m\u001b[0;34m,\u001b[0m \u001b[0mflags\u001b[0m\u001b[0;34m=\u001b[0m\u001b[0;36m0\u001b[0m\u001b[0;34m)\u001b[0m\u001b[0;34m:\u001b[0m\u001b[0;34m\u001b[0m\u001b[0;34m\u001b[0m\u001b[0m\n",
            "\u001b[0;32m/usr/lib/python3.10/re.py\u001b[0m in \u001b[0;36m_compile\u001b[0;34m(pattern, flags)\u001b[0m\n\u001b[1;32m    301\u001b[0m     \u001b[0;32mif\u001b[0m \u001b[0;32mnot\u001b[0m \u001b[0msre_compile\u001b[0m\u001b[0;34m.\u001b[0m\u001b[0misstring\u001b[0m\u001b[0;34m(\u001b[0m\u001b[0mpattern\u001b[0m\u001b[0;34m)\u001b[0m\u001b[0;34m:\u001b[0m\u001b[0;34m\u001b[0m\u001b[0;34m\u001b[0m\u001b[0m\n\u001b[1;32m    302\u001b[0m         \u001b[0;32mraise\u001b[0m \u001b[0mTypeError\u001b[0m\u001b[0;34m(\u001b[0m\u001b[0;34m\"first argument must be string or compiled pattern\"\u001b[0m\u001b[0;34m)\u001b[0m\u001b[0;34m\u001b[0m\u001b[0;34m\u001b[0m\u001b[0m\n\u001b[0;32m--> 303\u001b[0;31m     \u001b[0mp\u001b[0m \u001b[0;34m=\u001b[0m \u001b[0msre_compile\u001b[0m\u001b[0;34m.\u001b[0m\u001b[0mcompile\u001b[0m\u001b[0;34m(\u001b[0m\u001b[0mpattern\u001b[0m\u001b[0;34m,\u001b[0m \u001b[0mflags\u001b[0m\u001b[0;34m)\u001b[0m\u001b[0;34m\u001b[0m\u001b[0;34m\u001b[0m\u001b[0m\n\u001b[0m\u001b[1;32m    304\u001b[0m     \u001b[0;32mif\u001b[0m \u001b[0;32mnot\u001b[0m \u001b[0;34m(\u001b[0m\u001b[0mflags\u001b[0m \u001b[0;34m&\u001b[0m \u001b[0mDEBUG\u001b[0m\u001b[0;34m)\u001b[0m\u001b[0;34m:\u001b[0m\u001b[0;34m\u001b[0m\u001b[0;34m\u001b[0m\u001b[0m\n\u001b[1;32m    305\u001b[0m         \u001b[0;32mif\u001b[0m \u001b[0mlen\u001b[0m\u001b[0;34m(\u001b[0m\u001b[0m_cache\u001b[0m\u001b[0;34m)\u001b[0m \u001b[0;34m>=\u001b[0m \u001b[0m_MAXCACHE\u001b[0m\u001b[0;34m:\u001b[0m\u001b[0;34m\u001b[0m\u001b[0;34m\u001b[0m\u001b[0m\n",
            "\u001b[0;32m/usr/lib/python3.10/sre_compile.py\u001b[0m in \u001b[0;36mcompile\u001b[0;34m(p, flags)\u001b[0m\n\u001b[1;32m    790\u001b[0m         \u001b[0mpattern\u001b[0m \u001b[0;34m=\u001b[0m \u001b[0;32mNone\u001b[0m\u001b[0;34m\u001b[0m\u001b[0;34m\u001b[0m\u001b[0m\n\u001b[1;32m    791\u001b[0m \u001b[0;34m\u001b[0m\u001b[0m\n\u001b[0;32m--> 792\u001b[0;31m     \u001b[0mcode\u001b[0m \u001b[0;34m=\u001b[0m \u001b[0m_code\u001b[0m\u001b[0;34m(\u001b[0m\u001b[0mp\u001b[0m\u001b[0;34m,\u001b[0m \u001b[0mflags\u001b[0m\u001b[0;34m)\u001b[0m\u001b[0;34m\u001b[0m\u001b[0;34m\u001b[0m\u001b[0m\n\u001b[0m\u001b[1;32m    793\u001b[0m \u001b[0;34m\u001b[0m\u001b[0m\n\u001b[1;32m    794\u001b[0m     \u001b[0;32mif\u001b[0m \u001b[0mflags\u001b[0m \u001b[0;34m&\u001b[0m \u001b[0mSRE_FLAG_DEBUG\u001b[0m\u001b[0;34m:\u001b[0m\u001b[0;34m\u001b[0m\u001b[0;34m\u001b[0m\u001b[0m\n",
            "\u001b[0;32m/usr/lib/python3.10/sre_compile.py\u001b[0m in \u001b[0;36m_code\u001b[0;34m(p, flags)\u001b[0m\n\u001b[1;32m    620\u001b[0m     \u001b[0;32mreturn\u001b[0m \u001b[0misinstance\u001b[0m\u001b[0;34m(\u001b[0m\u001b[0mobj\u001b[0m\u001b[0;34m,\u001b[0m \u001b[0;34m(\u001b[0m\u001b[0mstr\u001b[0m\u001b[0;34m,\u001b[0m \u001b[0mbytes\u001b[0m\u001b[0;34m)\u001b[0m\u001b[0;34m)\u001b[0m\u001b[0;34m\u001b[0m\u001b[0;34m\u001b[0m\u001b[0m\n\u001b[1;32m    621\u001b[0m \u001b[0;34m\u001b[0m\u001b[0m\n\u001b[0;32m--> 622\u001b[0;31m \u001b[0;32mdef\u001b[0m \u001b[0m_code\u001b[0m\u001b[0;34m(\u001b[0m\u001b[0mp\u001b[0m\u001b[0;34m,\u001b[0m \u001b[0mflags\u001b[0m\u001b[0;34m)\u001b[0m\u001b[0;34m:\u001b[0m\u001b[0;34m\u001b[0m\u001b[0;34m\u001b[0m\u001b[0m\n\u001b[0m\u001b[1;32m    623\u001b[0m \u001b[0;34m\u001b[0m\u001b[0m\n\u001b[1;32m    624\u001b[0m     \u001b[0mflags\u001b[0m \u001b[0;34m=\u001b[0m \u001b[0mp\u001b[0m\u001b[0;34m.\u001b[0m\u001b[0mstate\u001b[0m\u001b[0;34m.\u001b[0m\u001b[0mflags\u001b[0m \u001b[0;34m|\u001b[0m \u001b[0mflags\u001b[0m\u001b[0;34m\u001b[0m\u001b[0;34m\u001b[0m\u001b[0m\n",
            "\u001b[0;31mKeyboardInterrupt\u001b[0m: "
          ]
        }
      ],
      "source": [
        "data = {}\n",
        "for seq, label in zip(Final_data['Sequence'], Final_data['Activity']):\n",
        "  data[seq] = propy.AAComposition.CalculateAADipeptideComposition(seq)\n",
        "  data[seq]['Activity'] = label\n",
        "AAC_df = pd.DataFrame.from_dict(data, orient='index').reset_index()\n",
        "AAC_df.rename(columns={'index': 'Sequence'}, inplace=True)\n",
        "AAC_df = pd.concat([AAC_df.iloc[:,:421], AAC_df.iloc[:,-1]], axis=1)"
      ]
    },
    {
      "cell_type": "markdown",
      "metadata": {
        "id": "zZ-jSgAwpv-H"
      },
      "source": [
        "## Autocorrelation"
      ]
    },
    {
      "cell_type": "code",
      "execution_count": null,
      "metadata": {
        "id": "T630zJV3o3pG"
      },
      "outputs": [],
      "source": [
        "data = {}\n",
        "for seq, label in zip(Final_data['Sequence'], Final_data['Activity']):\n",
        "  data[seq] = propy.Autocorrelation.CalculateAutoTotal(seq)\n",
        "  data[seq]['Activity'] = label\n",
        "Autocorr_df = pd.DataFrame.from_dict(data, orient='index').reset_index()\n",
        "Autocorr_df.rename(columns={'index': 'Sequence'}, inplace=True)"
      ]
    },
    {
      "cell_type": "markdown",
      "metadata": {
        "id": "u8Mi-fOjp4Vc"
      },
      "source": [
        "## CTD"
      ]
    },
    {
      "cell_type": "code",
      "execution_count": null,
      "metadata": {
        "id": "DX-nT2azqguq"
      },
      "outputs": [],
      "source": [
        "data = {}\n",
        "for seq, label in zip(Final_data['Sequence'], Final_data['Activity']):\n",
        "  data[seq] = propy.CTD.CalculateCTD(seq)\n",
        "  data[seq]['Activity'] = label\n",
        "ctd_df = pd.DataFrame.from_dict(data, orient='index').reset_index()\n",
        "ctd_df.rename(columns={'index': 'Sequence'}, inplace=True)"
      ]
    },
    {
      "cell_type": "markdown",
      "metadata": {
        "id": "i4d2tNGT4866"
      },
      "source": [
        "## PseAAC"
      ]
    },
    {
      "cell_type": "code",
      "execution_count": null,
      "metadata": {
        "id": "drGIHFf2rVOM"
      },
      "outputs": [],
      "source": [
        "data = {}\n",
        "for seq, label in zip(Final_data['Sequence'], Final_data['Activity']):\n",
        "  data[seq] = propy.PseudoAAC.GetAPseudoAAC(seq, lamda= 9)\n",
        "  data[seq]['Activity'] = label\n",
        "pseaac_df = pd.DataFrame.from_dict(data, orient='index').reset_index()\n",
        "pseaac_df.rename(columns={'index': 'Sequence'}, inplace=True)"
      ]
    },
    {
      "cell_type": "markdown",
      "metadata": {
        "id": "3_eEb2RyuR4w"
      },
      "source": [
        "## all posible combinations"
      ]
    },
    {
      "cell_type": "code",
      "execution_count": null,
      "metadata": {
        "id": "3O1bfAeF4U8k"
      },
      "outputs": [],
      "source": [
        "features = {\"ctd\": ctd_df, \"aac\": AAC_df, 'autocorr': Autocorr_df, 'pseaac': pseaac_df}\n",
        "\n",
        "combs = []\n",
        "for r in range(1, len(features) + 1):\n",
        "    combs.extend(combinations(features.keys(), r))\n",
        "\n",
        "final_combs = list(set(combs))"
      ]
    },
    {
      "cell_type": "code",
      "execution_count": null,
      "metadata": {
        "colab": {
          "base_uri": "https://localhost:8080/"
        },
        "id": "KeQzfokt4k_U",
        "outputId": "a553190f-493c-4df9-ad3a-cdc7dbe16216"
      },
      "outputs": [
        {
          "data": {
            "text/plain": [
              "[('pseaac',),\n",
              " ('aac', 'pseaac'),\n",
              " ('ctd', 'pseaac'),\n",
              " ('aac', 'autocorr'),\n",
              " ('autocorr', 'pseaac'),\n",
              " ('ctd', 'aac', 'autocorr', 'pseaac'),\n",
              " ('aac', 'autocorr', 'pseaac'),\n",
              " ('ctd', 'aac', 'autocorr'),\n",
              " ('ctd',),\n",
              " ('ctd', 'autocorr', 'pseaac'),\n",
              " ('ctd', 'aac', 'pseaac'),\n",
              " ('autocorr',),\n",
              " ('aac',),\n",
              " ('ctd', 'autocorr'),\n",
              " ('ctd', 'aac')]"
            ]
          },
          "execution_count": 43,
          "metadata": {},
          "output_type": "execute_result"
        }
      ],
      "source": [
        "final_combs"
      ]
    },
    {
      "cell_type": "code",
      "execution_count": null,
      "metadata": {
        "colab": {
          "base_uri": "https://localhost:8080/"
        },
        "id": "NIQPcjkhzo8s",
        "outputId": "fd019fc6-2dad-42e1-ab92-a0ca15650ee4"
      },
      "outputs": [
        {
          "name": "stdout",
          "output_type": "stream",
          "text": [
            "Saved: pseaac.csv\n",
            "(9228, 40)\n",
            "Saved: aac_pseaac.csv\n",
            "(9228, 460)\n",
            "Saved: ctd_pseaac.csv\n",
            "(9228, 187)\n",
            "Saved: aac_autocorr.csv\n",
            "(9228, 1142)\n",
            "Saved: autocorr_pseaac.csv\n",
            "(9228, 760)\n",
            "Saved: aac_autocorr_ctd_pseaac.csv\n",
            "(9228, 1327)\n",
            "Saved: aac_autocorr_pseaac.csv\n",
            "(9228, 1180)\n",
            "Saved: aac_autocorr_ctd.csv\n",
            "(9228, 1289)\n",
            "Saved: ctd.csv\n",
            "(9228, 149)\n",
            "Saved: autocorr_ctd_pseaac.csv\n",
            "(9228, 907)\n",
            "Saved: aac_ctd_pseaac.csv\n",
            "(9228, 607)\n",
            "Saved: autocorr.csv\n",
            "(9228, 722)\n",
            "Saved: aac.csv\n",
            "(9228, 422)\n",
            "Saved: autocorr_ctd.csv\n",
            "(9228, 869)\n",
            "Saved: aac_ctd.csv\n",
            "(9228, 569)\n"
          ]
        }
      ],
      "source": [
        "merged_combinations = {}\n",
        "\n",
        "# Iterate over each combination in final_combs\n",
        "for comb in final_combs:\n",
        "    # Access DataFrames for each key in the combination\n",
        "\n",
        "    dfs_to_merge = [features[key] for key in comb]\n",
        "\n",
        "    # Merge the DataFrames\n",
        "    merged_df = merge_on_common_column(dfs_to_merge, 'Sequence')\n",
        "     # Create a filename based on the combination\n",
        "    comb_name = \"_\".join(sorted(comb))  # Sort to ensure consistent naming\n",
        "    file_name = f\"{comb_name}.csv\"\n",
        "\n",
        "    # Save to CSV\n",
        "    output_path = os.path.join('/content/drive/MyDrive/ML project/Comb', file_name)\n",
        "    merged_df.to_csv(output_path, index=False)\n",
        "    print(f\"Saved: {file_name}\")\n",
        "    print(merged_df.shape)"
      ]
    }
  ]
}